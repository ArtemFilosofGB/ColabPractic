{
  "cells": [
    {
      "cell_type": "markdown",
      "metadata": {
        "id": "view-in-github",
        "colab_type": "text"
      },
      "source": [
        "<a href=\"https://colab.research.google.com/github/ArtemFilosofGB/ColabPractic/blob/main/BigData(%D0%A1%D0%B5%D0%BC%D0%B8%D0%BD%D0%B0%D1%801)_%D0%97%D0%B0%D0%B4%D0%B0%D1%87%D0%B8_1%2C_2%2C_3.ipynb\" target=\"_parent\"><img src=\"https://colab.research.google.com/assets/colab-badge.svg\" alt=\"Open In Colab\"/></a>"
      ]
    },
    {
      "cell_type": "markdown",
      "metadata": {
        "id": "auXMOyBZvJKt"
      },
      "source": [
        "Задача 1. map( )\n",
        "\n",
        "У нас есть список чисел. Мы хотим получить новый список, в котором каждый элемент будет возводиться\n",
        "в квадрат. Ниже показано решение задача через цикл, решите задачу с помощью функции map:"
      ]
    },
    {
      "cell_type": "code",
      "execution_count": 1,
      "metadata": {
        "colab": {
          "base_uri": "https://localhost:8080/"
        },
        "id": "7YdLu6n6vKTS",
        "outputId": "bb994210-1669-45c2-84cc-6907c3f2bc2f"
      },
      "outputs": [
        {
          "output_type": "stream",
          "name": "stdout",
          "text": [
            "[1, 4, 9, 16, 25]\n"
          ]
        }
      ],
      "source": [
        "numbers = [1, 2, 3, 4, 5]\n",
        "new_numbers = []\n",
        "for num in numbers:\n",
        "  squared = num**2\n",
        "  new_numbers.append(squared)\n",
        "\n",
        "print(new_numbers)"
      ]
    },
    {
      "cell_type": "code",
      "execution_count": 6,
      "metadata": {
        "id": "yyLIO4l5v5T0",
        "colab": {
          "base_uri": "https://localhost:8080/"
        },
        "outputId": "835c5ee4-044a-43f8-9d2d-26ff8d15583c"
      },
      "outputs": [
        {
          "output_type": "stream",
          "name": "stdout",
          "text": [
            "[1, 4, 9, 16, 25]\n"
          ]
        }
      ],
      "source": [
        "#Ваше решение\n",
        "numbers = [1, 2, 3, 4, 5]\n",
        "new_numbers = list(map(lambda x: x**2, numbers))\n",
        "print(new_numbers)"
      ]
    },
    {
      "cell_type": "markdown",
      "metadata": {
        "id": "jmEBB1dxv4Zz"
      },
      "source": [
        "Задача 2. reduce( )\n",
        "\n",
        "У нас есть список чисел, и мы хотим получить их сумму.\n",
        "Ниже показано решение задача через цикл, решите задачу с помощью функции reduce:"
      ]
    },
    {
      "cell_type": "code",
      "execution_count": null,
      "metadata": {
        "colab": {
          "base_uri": "https://localhost:8080/"
        },
        "id": "FzHo6ssdwXnE",
        "outputId": "c6361000-c7c8-4c37-c5e9-06f3fe488470"
      },
      "outputs": [
        {
          "name": "stdout",
          "output_type": "stream",
          "text": [
            "15\n"
          ]
        }
      ],
      "source": [
        "numbers = [1, 2, 3, 4, 5]\n",
        "result = 0\n",
        "for num in numbers:\n",
        "  result += num\n",
        "\n",
        "print(result)"
      ]
    },
    {
      "cell_type": "code",
      "execution_count": 9,
      "metadata": {
        "id": "2x5J3FTTwwjr",
        "colab": {
          "base_uri": "https://localhost:8080/"
        },
        "outputId": "e0437127-375e-4c61-974c-e7ac2380fa16"
      },
      "outputs": [
        {
          "output_type": "stream",
          "name": "stdout",
          "text": [
            "15\n"
          ]
        }
      ],
      "source": [
        "# Ваше решение\n",
        "from functools import reduce\n",
        "\n",
        "numbers = [1, 2, 3, 4, 5]\n",
        "result = reduce(lambda x, y: x + y, numbers)\n",
        "\n",
        "print(result)\n"
      ]
    },
    {
      "cell_type": "markdown",
      "metadata": {
        "id": "uQeD4Sjzwz_l"
      },
      "source": [
        "Задача 3. filter( )\n",
        "\n",
        "У нас есть список чисел и мы хотим получить только те, которые больше пяти. Ниже показано решение задача\n",
        "через цикл, решите задачу с помощью функции filter:"
      ]
    },
    {
      "cell_type": "code",
      "execution_count": null,
      "metadata": {
        "colab": {
          "base_uri": "https://localhost:8080/"
        },
        "id": "C5HtYCYawzaq",
        "outputId": "93f1d757-085b-4e3e-970d-7f2e8c269dc2"
      },
      "outputs": [
        {
          "name": "stdout",
          "output_type": "stream",
          "text": [
            "[7, 8]\n"
          ]
        }
      ],
      "source": [
        "numbers = [2, 7, 1, 8, 4, 5]\n",
        "result = []\n",
        "for num in numbers:\n",
        "  if num > 5:\n",
        "    result.append(num)\n",
        "\n",
        "print(result)"
      ]
    },
    {
      "cell_type": "code",
      "execution_count": 11,
      "metadata": {
        "id": "XM8bB_uTxKaq",
        "colab": {
          "base_uri": "https://localhost:8080/"
        },
        "outputId": "a1f9e645-17aa-42f0-d298-d72c57d63a9a"
      },
      "outputs": [
        {
          "output_type": "stream",
          "name": "stdout",
          "text": [
            "[7, 8]\n"
          ]
        }
      ],
      "source": [
        "# ваше решение\n",
        "numbers = [2, 7, 1, 8, 4, 5]\n",
        "result = list(filter(lambda x:x>5,numbers))\n",
        "print(result)"
      ]
    }
  ],
  "metadata": {
    "colab": {
      "provenance": [],
      "include_colab_link": true
    },
    "kernelspec": {
      "display_name": "Python 3",
      "name": "python3"
    },
    "language_info": {
      "codemirror_mode": {
        "name": "ipython",
        "version": 3
      },
      "file_extension": ".py",
      "mimetype": "text/x-python",
      "name": "python",
      "nbconvert_exporter": "python",
      "pygments_lexer": "ipython3",
      "version": "3.11.7"
    }
  },
  "nbformat": 4,
  "nbformat_minor": 0
}